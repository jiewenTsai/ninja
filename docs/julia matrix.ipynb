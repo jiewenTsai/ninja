{
 "cells": [
  {
   "cell_type": "markdown",
   "metadata": {},
   "source": [
    "# Julia vs. R. 矩陣乘法\n",
    "\n",
    "- Author. jw.\n",
    "- Date. May 27, 2024.\n",
    "\n",
    "## Problem. \n",
    "\n",
    "今天簡單比較 julia 跟 r 的矩陣功能。\n",
    "\n",
    "## Solution."
   ]
  },
  {
   "cell_type": "code",
   "execution_count": 1,
   "metadata": {},
   "outputs": [],
   "source": [
    "using LinearAlgebra\n",
    "using RCall\n",
    "using Random, Distributions"
   ]
  },
  {
   "cell_type": "code",
   "execution_count": 2,
   "metadata": {},
   "outputs": [
    {
     "data": {
      "text/plain": [
       "3×3 Matrix{Float64}:\n",
       " -1.14544   -0.70488    -0.924749\n",
       "  0.242865   1.65682     0.113084\n",
       " -0.478499   0.0676163   0.470498"
      ]
     },
     "metadata": {},
     "output_type": "display_data"
    }
   ],
   "source": [
    "A = randn(3,3)\n",
    "B = diagm(ones(3))\n",
    "\n",
    "@rput A B\n",
    "\n",
    "A"
   ]
  },
  {
   "cell_type": "markdown",
   "metadata": {},
   "source": [
    "1. 元素對應相乘 elementwise multiplication, Hadamard product "
   ]
  },
  {
   "cell_type": "code",
   "execution_count": 3,
   "metadata": {},
   "outputs": [
    {
     "data": {
      "text/plain": [
       "3×3 Matrix{Float64}:\n",
       " -1.14544  -0.0      -0.0\n",
       "  0.0       1.65682   0.0\n",
       " -0.0       0.0       0.470498"
      ]
     },
     "metadata": {},
     "output_type": "display_data"
    }
   ],
   "source": [
    "## Hadamard product \n",
    "A .* B"
   ]
  },
  {
   "cell_type": "code",
   "execution_count": 4,
   "metadata": {},
   "outputs": [
    {
     "data": {
      "text/plain": [
       "RObject{RealSxp}\n",
       "          [,1]    [,2]      [,3]\n",
       "[1,] -1.145436 0.00000 0.0000000\n",
       "[2,]  0.000000 1.65682 0.0000000\n",
       "[3,]  0.000000 0.00000 0.4704984\n"
      ]
     },
     "metadata": {},
     "output_type": "display_data"
    }
   ],
   "source": [
    "R\"A * B\""
   ]
  },
  {
   "cell_type": "markdown",
   "metadata": {},
   "source": [
    "2. 矩陣相乘"
   ]
  },
  {
   "cell_type": "code",
   "execution_count": 5,
   "metadata": {},
   "outputs": [
    {
     "data": {
      "text/plain": [
       "3×3 Matrix{Float64}:\n",
       " -1.14544   -0.70488    -0.924749\n",
       "  0.242865   1.65682     0.113084\n",
       " -0.478499   0.0676163   0.470498"
      ]
     },
     "metadata": {},
     "output_type": "display_data"
    }
   ],
   "source": [
    "## matrix multiplication\n",
    "A * B"
   ]
  },
  {
   "cell_type": "code",
   "execution_count": 6,
   "metadata": {},
   "outputs": [
    {
     "data": {
      "text/plain": [
       "RObject{RealSxp}\n",
       "           [,1]        [,2]       [,3]\n",
       "[1,] -1.1454361 -0.70487967 -0.9247492\n",
       "[2,]  0.2428647  1.65682034  0.1130844\n",
       "[3,] -0.4784994  0.06761633  0.4704984\n"
      ]
     },
     "metadata": {},
     "output_type": "display_data"
    }
   ],
   "source": [
    "R\"A %*% B\""
   ]
  },
  {
   "cell_type": "markdown",
   "metadata": {},
   "source": [
    "3. 內積。 Inner product.\n",
    "\n",
    "$A \\cdot B = |A| |B| \\cos(\\theta) = \\sum _I a_i b_i$"
   ]
  },
  {
   "cell_type": "code",
   "execution_count": 7,
   "metadata": {},
   "outputs": [
    {
     "data": {
      "text/plain": [
       "0.9818825503021242"
      ]
     },
     "metadata": {},
     "output_type": "display_data"
    }
   ],
   "source": [
    "## 內積 \\cdot\n",
    "dot(A, B)\n",
    "# OR A ⋅ B"
   ]
  },
  {
   "cell_type": "code",
   "execution_count": 8,
   "metadata": {},
   "outputs": [
    {
     "data": {
      "text/plain": [
       "RObject{RealSxp}\n",
       "[1] 0.9818826\n"
      ]
     },
     "metadata": {},
     "output_type": "display_data"
    }
   ],
   "source": [
    "R\"sum(A*B)\""
   ]
  },
  {
   "cell_type": "markdown",
   "metadata": {},
   "source": [
    "4. 轉置 transpose"
   ]
  },
  {
   "cell_type": "code",
   "execution_count": 9,
   "metadata": {},
   "outputs": [
    {
     "data": {
      "text/plain": [
       "3×3 adjoint(::Matrix{Float64}) with eltype Float64:\n",
       " -1.14544   0.242865  -0.478499\n",
       " -0.70488   1.65682    0.0676163\n",
       " -0.924749  0.113084   0.470498"
      ]
     },
     "metadata": {},
     "output_type": "display_data"
    }
   ],
   "source": [
    "A'"
   ]
  },
  {
   "cell_type": "code",
   "execution_count": 10,
   "metadata": {},
   "outputs": [
    {
     "data": {
      "text/plain": [
       "RObject{RealSxp}\n",
       "           [,1]      [,2]        [,3]\n",
       "[1,] -1.1454361 0.2428647 -0.47849936\n",
       "[2,] -0.7048797 1.6568203  0.06761633\n",
       "[3,] -0.9247492 0.1130844  0.47049836\n"
      ]
     },
     "metadata": {},
     "output_type": "display_data"
    }
   ],
   "source": [
    "R\"t(A)\""
   ]
  },
  {
   "cell_type": "markdown",
   "metadata": {},
   "source": [
    "## Discussion.\n",
    "\n",
    "簡單來說， julia 預設的乘法 （`*`） 是「矩陣乘法」。\n",
    "用 `.*` 可廣播運算，相當於「元素對應乘法」。\n",
    "補充說明，這邊 julia 的設計跟 matlab 是比較接近的。\n",
    "\n",
    "而 r 預設的乘法 `*` 則是「元素乘法」。\n",
    "透過特殊的運算子 `%*%` 來計算「矩陣乘法」。\n",
    "補充說明，這邊 r 跟 python 倒是蠻像的，\n",
    "python 的預設乘法 `*` 也是元素乘法， 用特殊運算子 `@` 做矩陣乘法。\n",
    "\n"
   ]
  },
  {
   "cell_type": "code",
   "execution_count": 11,
   "metadata": {},
   "outputs": [],
   "source": []
  }
 ],
 "metadata": {
  "kernelspec": {
   "display_name": "Julia 1.10.3",
   "language": "julia",
   "name": "julia-1.10"
  },
  "language_info": {
   "file_extension": ".jl",
   "mimetype": "application/julia",
   "name": "julia",
   "version": "1.10.3"
  }
 },
 "nbformat": 4,
 "nbformat_minor": 2
}
