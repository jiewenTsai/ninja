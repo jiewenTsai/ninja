{
  "nbformat": 4,
  "nbformat_minor": 0,
  "metadata": {
    "colab": {
      "provenance": [],
      "authorship_tag": "ABX9TyNGvar6Gs5xefwIAHNBTHk9",
      "include_colab_link": true
    },
    "kernelspec": {
      "name": "ir",
      "display_name": "R"
    },
    "language_info": {
      "name": "R"
    }
  },
  "cells": [
    {
      "cell_type": "markdown",
      "metadata": {
        "id": "view-in-github",
        "colab_type": "text"
      },
      "source": [
        "<a href=\"https://colab.research.google.com/github/jiewenTsai/ninja/blob/main/2025W30.ipynb\" target=\"_parent\"><img src=\"https://colab.research.google.com/assets/colab-badge.svg\" alt=\"Open In Colab\"/></a>"
      ]
    },
    {
      "cell_type": "markdown",
      "source": [
        "\n",
        "## 0721\n",
        "\n",
        "### Problem\n",
        "\n",
        "你想測試一下 Doran (2023) 文章中所說的 _OLS as a Unifying Framework_ 這一小節。\n",
        "\n",
        "\n",
        "### Solution\n",
        "\n",
        "**Theory.** 一個一般的解線性方程式的公式如右 X'Xβ = X'y, 因此我們可以得到 β 的估計值為 $\\bf \\hat \\beta=(X'X)^{-1}X'y$. 而 Doran (2023) 文章中提到，很多文章都是用 $\\bf (X'X)^{-1}$.\n",
        "然而更快速更穩定的方法不是用 $\\bf (X'X)$ 的 invert 而是應該去找 $\\bf (X'X)$ 的分解，$\\bf (X'X)=LL'$，其中 L 是 Cholesky factor 的下三角。\n",
        "\n",
        "\n",
        "### See Also\n",
        "\n",
        "- Doran, H. (2023). A collection of numerical recipes useful for building scalable psychometric applications. Journal of Educational and Behavioral Statistics, 48(1), 37-69.\n"
      ],
      "metadata": {
        "id": "8u-a_JE3a6up"
      }
    },
    {
      "cell_type": "code",
      "source": [
        "X = matrix(rnorm(300), nrow=100)\n",
        "B = rnorm(3)\n",
        "y = X %*% B + rnorm(100)\n",
        "cat('True B: ', B)"
      ],
      "metadata": {
        "colab": {
          "base_uri": "https://localhost:8080/"
        },
        "id": "ODjsxW9Va6hi",
        "outputId": "0796cda6-93c5-4fdb-b4e4-593a34bae08c"
      },
      "execution_count": 17,
      "outputs": [
        {
          "output_type": "stream",
          "name": "stdout",
          "text": [
            "True B:  1.302446 1.219099 2.64538"
          ]
        }
      ]
    },
    {
      "cell_type": "code",
      "execution_count": 18,
      "metadata": {
        "colab": {
          "base_uri": "https://localhost:8080/",
          "height": 128
        },
        "id": "JnrcqDdga5sh",
        "outputId": "0d2bbd7e-db24-41d4-8cef-2b55aa311316"
      },
      "outputs": [
        {
          "output_type": "display_data",
          "data": {
            "text/html": [
              "<table class=\"dataframe\">\n",
              "<caption>A matrix: 3 × 3 of type dbl</caption>\n",
              "<tbody>\n",
              "\t<tr><td>108.376385</td><td> -8.716593</td><td>-6.680255</td></tr>\n",
              "\t<tr><td> -8.716593</td><td>121.026511</td><td>-6.408469</td></tr>\n",
              "\t<tr><td> -6.680255</td><td> -6.408469</td><td>83.483773</td></tr>\n",
              "</tbody>\n",
              "</table>\n"
            ],
            "text/markdown": "\nA matrix: 3 × 3 of type dbl\n\n| 108.376385 |  -8.716593 | -6.680255 |\n|  -8.716593 | 121.026511 | -6.408469 |\n|  -6.680255 |  -6.408469 | 83.483773 |\n\n",
            "text/latex": "A matrix: 3 × 3 of type dbl\n\\begin{tabular}{lll}\n\t 108.376385 &  -8.716593 & -6.680255\\\\\n\t  -8.716593 & 121.026511 & -6.408469\\\\\n\t  -6.680255 &  -6.408469 & 83.483773\\\\\n\\end{tabular}\n",
            "text/plain": [
              "     [,1]       [,2]       [,3]     \n",
              "[1,] 108.376385  -8.716593 -6.680255\n",
              "[2,]  -8.716593 121.026511 -6.408469\n",
              "[3,]  -6.680255  -6.408469 83.483773"
            ]
          },
          "metadata": {}
        }
      ],
      "source": [
        "## X'X\n",
        "t(X) %*% X"
      ]
    },
    {
      "cell_type": "code",
      "source": [
        "## find cholesky factor\n",
        "L = t(X) %*% X |> chol() |> t()\n",
        "L %*% t(L)"
      ],
      "metadata": {
        "colab": {
          "base_uri": "https://localhost:8080/",
          "height": 128
        },
        "id": "oBuJHRdNhe9D",
        "outputId": "667ed77d-1435-41a7-a017-daf33ab7550c"
      },
      "execution_count": 22,
      "outputs": [
        {
          "output_type": "display_data",
          "data": {
            "text/html": [
              "<table class=\"dataframe\">\n",
              "<caption>A matrix: 3 × 3 of type dbl</caption>\n",
              "<tbody>\n",
              "\t<tr><td>108.376385</td><td> -8.716593</td><td>-6.680255</td></tr>\n",
              "\t<tr><td> -8.716593</td><td>121.026511</td><td>-6.408469</td></tr>\n",
              "\t<tr><td> -6.680255</td><td> -6.408469</td><td>83.483773</td></tr>\n",
              "</tbody>\n",
              "</table>\n"
            ],
            "text/markdown": "\nA matrix: 3 × 3 of type dbl\n\n| 108.376385 |  -8.716593 | -6.680255 |\n|  -8.716593 | 121.026511 | -6.408469 |\n|  -6.680255 |  -6.408469 | 83.483773 |\n\n",
            "text/latex": "A matrix: 3 × 3 of type dbl\n\\begin{tabular}{lll}\n\t 108.376385 &  -8.716593 & -6.680255\\\\\n\t  -8.716593 & 121.026511 & -6.408469\\\\\n\t  -6.680255 &  -6.408469 & 83.483773\\\\\n\\end{tabular}\n",
            "text/plain": [
              "     [,1]       [,2]       [,3]     \n",
              "[1,] 108.376385  -8.716593 -6.680255\n",
              "[2,]  -8.716593 121.026511 -6.408469\n",
              "[3,]  -6.680255  -6.408469 83.483773"
            ]
          },
          "metadata": {}
        }
      ]
    },
    {
      "cell_type": "code",
      "source": [
        "## Estimated B\n",
        "solve(t(X) %*% X) %*% t(X) %*% y"
      ],
      "metadata": {
        "colab": {
          "base_uri": "https://localhost:8080/",
          "height": 163
        },
        "id": "ASNaekNlh0Zv",
        "outputId": "982b4dfa-848e-4cde-bf1e-24ad770e3391"
      },
      "execution_count": 27,
      "outputs": [
        {
          "output_type": "display_data",
          "data": {
            "text/html": [
              "<table class=\"dataframe\">\n",
              "<caption>A matrix: 3 × 1 of type dbl</caption>\n",
              "<tbody>\n",
              "\t<tr><td>1.339048</td></tr>\n",
              "\t<tr><td>1.107174</td></tr>\n",
              "\t<tr><td>2.587583</td></tr>\n",
              "</tbody>\n",
              "</table>\n"
            ],
            "text/markdown": "\nA matrix: 3 × 1 of type dbl\n\n| 1.339048 |\n| 1.107174 |\n| 2.587583 |\n\n",
            "text/latex": "A matrix: 3 × 1 of type dbl\n\\begin{tabular}{l}\n\t 1.339048\\\\\n\t 1.107174\\\\\n\t 2.587583\\\\\n\\end{tabular}\n",
            "text/plain": [
              "     [,1]    \n",
              "[1,] 1.339048\n",
              "[2,] 1.107174\n",
              "[3,] 2.587583"
            ]
          },
          "metadata": {}
        }
      ]
    },
    {
      "cell_type": "code",
      "source": [
        "# 正確的兩步求解\n",
        "XTy = t(X) %*% y\n",
        "z = forwardsolve(L, XTy)      # 解 L*z = X^T*y\n",
        "B_hat = backsolve(t(L), z)    # 解 L^T*β = z\n",
        "\n",
        "print(B_hat)"
      ],
      "metadata": {
        "colab": {
          "base_uri": "https://localhost:8080/"
        },
        "id": "Xa-p-v4biAnU",
        "outputId": "8dd200c0-97d7-4fce-d97e-bfeb1ba16050"
      },
      "execution_count": 24,
      "outputs": [
        {
          "output_type": "stream",
          "name": "stdout",
          "text": [
            "         [,1]\n",
            "[1,] 1.339048\n",
            "[2,] 1.107174\n",
            "[3,] 2.587583\n"
          ]
        }
      ]
    },
    {
      "cell_type": "code",
      "source": [
        "system(\"sudo apt install r-cran-microbenchmark\")"
      ],
      "metadata": {
        "id": "qACDRvTOj1CH"
      },
      "execution_count": 26,
      "outputs": []
    },
    {
      "cell_type": "code",
      "source": [
        "library(microbenchmark)"
      ],
      "metadata": {
        "id": "0jJbjz1jjz9I"
      },
      "execution_count": 28,
      "outputs": []
    },
    {
      "cell_type": "code",
      "source": [
        "bench <- microbenchmark(\n",
        "  inverse = solve(t(X) %*% X) %*% t(X) %*% y,\n",
        "  cholesky = {\n",
        "    L = t(X) %*% X |> chol() |> t()\n",
        "    XTy = t(X) %*% y\n",
        "    z = forwardsolve(L, XTy)      # 解 L*z = X^T*y\n",
        "    B_hat = backsolve(t(L), z)    # 解 L^T*β = z\n",
        "  },\n",
        "  rcpp = solve_two_steps(X,y),\n",
        "  times = 100\n",
        ")"
      ],
      "metadata": {
        "id": "wTrxOy_0itCm"
      },
      "execution_count": 85,
      "outputs": []
    },
    {
      "cell_type": "code",
      "source": [
        "plot(bench$expr, log(bench$time))"
      ],
      "metadata": {
        "colab": {
          "base_uri": "https://localhost:8080/",
          "height": 437
        },
        "id": "4lUj90jskI9z",
        "outputId": "25b8c0e7-9a41-4f57-c994-52c74ff2dda7"
      },
      "execution_count": 89,
      "outputs": [
        {
          "output_type": "display_data",
          "data": {
            "text/plain": [
              "plot without title"
            ],
            "image/png": "[encoded data removed]"
          },
          "metadata": {
            "image/png": {
              "width": 420,
              "height": 420
            }
          }
        }
      ]
    },
    {
      "cell_type": "markdown",
      "source": [
        "**Step 2. (用 Rcpp 寫)**\n",
        ""
      ],
      "metadata": {
        "id": "xSIDpail-Tdb"
      }
    },
    {
      "cell_type": "code",
      "source": [
        "system(\"sudo apt install r-cran-rcpparmadillo\")"
      ],
      "metadata": {
        "id": "rj5erylH-ZQU"
      },
      "execution_count": 32,
      "outputs": []
    },
    {
      "cell_type": "code",
      "source": [
        "library(Rcpp)\n",
        "library(RcppArmadillo)"
      ],
      "metadata": {
        "id": "dM3x63lykiUw"
      },
      "execution_count": 49,
      "outputs": []
    },
    {
      "cell_type": "code",
      "source": [
        "rcpp_chol <- '\n",
        "#include <RcppArmadillo.h>\n",
        "// [[Rcpp::depends(RcppArmadillo)]]\n",
        "\n",
        "using namespace arma;\n",
        "\n",
        "// [[Rcpp::export]]\n",
        "arma::mat find_chol(arma::mat X){\n",
        "  // find cholesky factor\n",
        "  arma::mat XTX = X.t() * X;\n",
        "  arma::mat L = chol(XTX);\n",
        "\n",
        "  return L.t();\n",
        "}\n",
        "\n",
        "// [[Rcpp::export]]\n",
        "arma::mat solve_two_steps(arma::mat X, arma::mat y){\n",
        "  arma::mat XTy = X.t() * y;\n",
        "  arma::mat L = find_chol(X);\n",
        "  // 兩步求解\n",
        "  arma::mat z = solve(trimatl(L), XTy);\n",
        "  arma::mat beta = solve(trimatu(L.t()), z);\n",
        "\n",
        "  return beta;\n",
        "}\n",
        "\n",
        "'"
      ],
      "metadata": {
        "id": "pPPeK9dN-pHG"
      },
      "execution_count": 75,
      "outputs": []
    },
    {
      "cell_type": "code",
      "source": [
        "sourceCpp(code = rcpp_chol)"
      ],
      "metadata": {
        "id": "YLe-DeEe_-Yf"
      },
      "execution_count": 76,
      "outputs": []
    },
    {
      "cell_type": "code",
      "source": [
        "find_chol(X)"
      ],
      "metadata": {
        "colab": {
          "base_uri": "https://localhost:8080/",
          "height": 128
        },
        "id": "QuqbW49sCbOx",
        "outputId": "371bda10-7ee2-4f7d-9c21-9ddcd4c113bd"
      },
      "execution_count": 77,
      "outputs": [
        {
          "output_type": "display_data",
          "data": {
            "text/html": [
              "<table class=\"dataframe\">\n",
              "<caption>A matrix: 3 × 3 of type dbl</caption>\n",
              "<tbody>\n",
              "\t<tr><td>10.4103979</td><td> 0.0000000</td><td>0.000000</td></tr>\n",
              "\t<tr><td>-0.8372968</td><td>10.9692955</td><td>0.000000</td></tr>\n",
              "\t<tr><td>-0.6416906</td><td>-0.6331997</td><td>9.092363</td></tr>\n",
              "</tbody>\n",
              "</table>\n"
            ],
            "text/markdown": "\nA matrix: 3 × 3 of type dbl\n\n| 10.4103979 |  0.0000000 | 0.000000 |\n| -0.8372968 | 10.9692955 | 0.000000 |\n| -0.6416906 | -0.6331997 | 9.092363 |\n\n",
            "text/latex": "A matrix: 3 × 3 of type dbl\n\\begin{tabular}{lll}\n\t 10.4103979 &  0.0000000 & 0.000000\\\\\n\t -0.8372968 & 10.9692955 & 0.000000\\\\\n\t -0.6416906 & -0.6331997 & 9.092363\\\\\n\\end{tabular}\n",
            "text/plain": [
              "     [,1]       [,2]       [,3]    \n",
              "[1,] 10.4103979  0.0000000 0.000000\n",
              "[2,] -0.8372968 10.9692955 0.000000\n",
              "[3,] -0.6416906 -0.6331997 9.092363"
            ]
          },
          "metadata": {}
        }
      ]
    },
    {
      "cell_type": "code",
      "source": [
        "solve_two_steps(X,y)"
      ],
      "metadata": {
        "colab": {
          "base_uri": "https://localhost:8080/",
          "height": 163
        },
        "id": "XPCBJjonDLN-",
        "outputId": "15f516c3-90be-458a-f382-6b7767854a9d"
      },
      "execution_count": 78,
      "outputs": [
        {
          "output_type": "display_data",
          "data": {
            "text/html": [
              "<table class=\"dataframe\">\n",
              "<caption>A matrix: 3 × 1 of type dbl</caption>\n",
              "<tbody>\n",
              "\t<tr><td>1.339048</td></tr>\n",
              "\t<tr><td>1.107174</td></tr>\n",
              "\t<tr><td>2.587583</td></tr>\n",
              "</tbody>\n",
              "</table>\n"
            ],
            "text/markdown": "\nA matrix: 3 × 1 of type dbl\n\n| 1.339048 |\n| 1.107174 |\n| 2.587583 |\n\n",
            "text/latex": "A matrix: 3 × 1 of type dbl\n\\begin{tabular}{l}\n\t 1.339048\\\\\n\t 1.107174\\\\\n\t 2.587583\\\\\n\\end{tabular}\n",
            "text/plain": [
              "     [,1]    \n",
              "[1,] 1.339048\n",
              "[2,] 1.107174\n",
              "[3,] 2.587583"
            ]
          },
          "metadata": {}
        }
      ]
    },
    {
      "cell_type": "markdown",
      "source": [
        "## 0722\n",
        "\n",
        "\n",
        "### Problem\n",
        "\n",
        "\n",
        "\n",
        "### Solution\n",
        "\n",
        "\n",
        "### Discussion\n",
        "\n",
        "\n",
        "\n",
        "### See Also\n",
        "\n",
        "\n",
        "\n"
      ],
      "metadata": {
        "id": "IlgQdg5fmMH2"
      }
    },
    {
      "cell_type": "code",
      "source": [],
      "metadata": {
        "id": "jbE9tiBXmQlM"
      },
      "execution_count": null,
      "outputs": []
    }
  ]
}
