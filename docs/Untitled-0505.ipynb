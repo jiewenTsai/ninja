{
 "cells": [
  {
   "cell_type": "markdown",
   "metadata": {},
   "source": [
    "# Testing MCMC algo.\n",
    "\n",
    "- metropolis-hastings algo.\n",
    "- gibbs algo.\n"
   ]
  },
  {
   "cell_type": "code",
   "execution_count": 1,
   "metadata": {},
   "outputs": [],
   "source": [
    "import numpy as np\n",
    "import scipy as sp\n",
    "import matplotlib.pyplot as plt\n",
    "import pandas as pd"
   ]
  },
  {
   "cell_type": "code",
   "execution_count": 2,
   "metadata": {},
   "outputs": [],
   "source": [
    "np.random.seed(1234)\n",
    "x = np.random.normal(size=20) * 2 + 1\n",
    "n_rep = 10000\n",
    "n_accept = 0\n",
    "theta = np.empty(shape=(2, n_rep))"
   ]
  },
  {
   "cell_type": "code",
   "execution_count": 3,
   "metadata": {},
   "outputs": [
    {
     "data": {
      "text/plain": [
       "0.0"
      ]
     },
     "execution_count": 3,
     "metadata": {},
     "output_type": "execute_result"
    }
   ],
   "source": [
    "sp.stats.norm(loc=theta[0, 0], scale = np.exp(theta[1, 0])).pdf(x=1000)"
   ]
  },
  {
   "cell_type": "code",
   "execution_count": 6,
   "metadata": {},
   "outputs": [
    {
     "data": {
      "text/html": [
       "<div>\n",
       "<style scoped>\n",
       "    .dataframe tbody tr th:only-of-type {\n",
       "        vertical-align: middle;\n",
       "    }\n",
       "\n",
       "    .dataframe tbody tr th {\n",
       "        vertical-align: top;\n",
       "    }\n",
       "\n",
       "    .dataframe thead th {\n",
       "        text-align: right;\n",
       "    }\n",
       "</style>\n",
       "<table border=\"1\" class=\"dataframe\">\n",
       "  <thead>\n",
       "    <tr style=\"text-align: right;\">\n",
       "      <th></th>\n",
       "      <th>id</th>\n",
       "      <th>y</th>\n",
       "    </tr>\n",
       "  </thead>\n",
       "  <tbody>\n",
       "    <tr>\n",
       "      <th>0</th>\n",
       "      <td>0</td>\n",
       "      <td>-0.248432</td>\n",
       "    </tr>\n",
       "    <tr>\n",
       "      <th>1</th>\n",
       "      <td>1</td>\n",
       "      <td>-0.617707</td>\n",
       "    </tr>\n",
       "    <tr>\n",
       "      <th>2</th>\n",
       "      <td>2</td>\n",
       "      <td>-0.682884</td>\n",
       "    </tr>\n",
       "    <tr>\n",
       "      <th>3</th>\n",
       "      <td>3</td>\n",
       "      <td>0.436258</td>\n",
       "    </tr>\n",
       "    <tr>\n",
       "      <th>4</th>\n",
       "      <td>4</td>\n",
       "      <td>-1.703013</td>\n",
       "    </tr>\n",
       "    <tr>\n",
       "      <th>...</th>\n",
       "      <td>...</td>\n",
       "      <td>...</td>\n",
       "    </tr>\n",
       "    <tr>\n",
       "      <th>95</th>\n",
       "      <td>95</td>\n",
       "      <td>1.015405</td>\n",
       "    </tr>\n",
       "    <tr>\n",
       "      <th>96</th>\n",
       "      <td>96</td>\n",
       "      <td>0.749185</td>\n",
       "    </tr>\n",
       "    <tr>\n",
       "      <th>97</th>\n",
       "      <td>97</td>\n",
       "      <td>-0.675521</td>\n",
       "    </tr>\n",
       "    <tr>\n",
       "      <th>98</th>\n",
       "      <td>98</td>\n",
       "      <td>0.440266</td>\n",
       "    </tr>\n",
       "    <tr>\n",
       "      <th>99</th>\n",
       "      <td>99</td>\n",
       "      <td>0.688972</td>\n",
       "    </tr>\n",
       "  </tbody>\n",
       "</table>\n",
       "<p>100 rows × 2 columns</p>\n",
       "</div>"
      ],
      "text/plain": [
       "    id         y\n",
       "0    0 -0.248432\n",
       "1    1 -0.617707\n",
       "2    2 -0.682884\n",
       "3    3  0.436258\n",
       "4    4 -1.703013\n",
       "..  ..       ...\n",
       "95  95  1.015405\n",
       "96  96  0.749185\n",
       "97  97 -0.675521\n",
       "98  98  0.440266\n",
       "99  99  0.688972\n",
       "\n",
       "[100 rows x 2 columns]"
      ]
     },
     "execution_count": 6,
     "metadata": {},
     "output_type": "execute_result"
    }
   ],
   "source": [
    "dat = pd.DataFrame({\n",
    "    'id': range(100),\n",
    "    'y': np.random.normal(0,1, size=100)\n",
    "})\n",
    "dat"
   ]
  },
  {
   "cell_type": "markdown",
   "metadata": {},
   "source": [
    "## MH algo."
   ]
  },
  {
   "cell_type": "code",
   "execution_count": 5,
   "metadata": {},
   "outputs": [
    {
     "ename": "ValueError",
     "evalue": "operands could not be broadcast together with shapes (10000,) (2,) ",
     "output_type": "error",
     "traceback": [
      "\u001b[0;31m---------------------------------------------------------------------------\u001b[0m",
      "\u001b[0;31mValueError\u001b[0m                                Traceback (most recent call last)",
      "Cell \u001b[0;32mIn[5], line 5\u001b[0m\n\u001b[1;32m      3\u001b[0m ll0 \u001b[38;5;241m=\u001b[39m np\u001b[38;5;241m.\u001b[39mlog(sp\u001b[38;5;241m.\u001b[39mstats\u001b[38;5;241m.\u001b[39mnorm(loc\u001b[38;5;241m=\u001b[39mtheta[\u001b[38;5;241m0\u001b[39m,\u001b[38;5;241m0\u001b[39m], scale\u001b[38;5;241m=\u001b[39mtheta[\u001b[38;5;241m1\u001b[39m,\u001b[38;5;241m0\u001b[39m])\u001b[38;5;241m.\u001b[39mpdf(x))\u001b[38;5;241m.\u001b[39msum()\n\u001b[1;32m      4\u001b[0m \u001b[38;5;28;01mfor\u001b[39;00m i \u001b[38;5;129;01min\u001b[39;00m \u001b[38;5;28mrange\u001b[39m(\u001b[38;5;241m1\u001b[39m, n_rep):\n\u001b[0;32m----> 5\u001b[0m     theta[i,:] \u001b[38;5;241m=\u001b[39m \u001b[43mtheta\u001b[49m\u001b[43m[\u001b[49m\u001b[43mi\u001b[49m\u001b[38;5;241;43m-\u001b[39;49m\u001b[38;5;241;43m1\u001b[39;49m\u001b[43m,\u001b[49m\u001b[43m:\u001b[49m\u001b[43m]\u001b[49m\u001b[43m \u001b[49m\u001b[38;5;241;43m+\u001b[39;49m\u001b[43m \u001b[49m\u001b[43msp\u001b[49m\u001b[38;5;241;43m.\u001b[39;49m\u001b[43mstats\u001b[49m\u001b[38;5;241;43m.\u001b[39;49m\u001b[43mt\u001b[49m\u001b[43m(\u001b[49m\u001b[43mdf\u001b[49m\u001b[38;5;241;43m=\u001b[39;49m\u001b[38;5;241;43m3\u001b[39;49m\u001b[43m)\u001b[49m\u001b[38;5;241;43m.\u001b[39;49m\u001b[43mrvs\u001b[49m\u001b[43m(\u001b[49m\u001b[38;5;241;43m2\u001b[39;49m\u001b[43m)\u001b[49m\u001b[38;5;241;43m*\u001b[39;49m\u001b[38;5;241;43m.5\u001b[39;49m\n\u001b[1;32m      6\u001b[0m     ll1 \u001b[38;5;241m=\u001b[39m np\u001b[38;5;241m.\u001b[39mlog(sp\u001b[38;5;241m.\u001b[39mstats\u001b[38;5;241m.\u001b[39mnorm(loc\u001b[38;5;241m=\u001b[39mtheta[i,\u001b[38;5;241m0\u001b[39m], scale\u001b[38;5;241m=\u001b[39mtheta[i,\u001b[38;5;241m1\u001b[39m])\u001b[38;5;241m.\u001b[39mpdf(x))\u001b[38;5;241m.\u001b[39msum()\n\u001b[1;32m      8\u001b[0m     \u001b[38;5;28;01mif\u001b[39;00m np\u001b[38;5;241m.\u001b[39mexp(ll1 \u001b[38;5;241m-\u001b[39m ll0) \u001b[38;5;241m>\u001b[39m sp\u001b[38;5;241m.\u001b[39mstats\u001b[38;5;241m.\u001b[39muniform()\u001b[38;5;241m.\u001b[39mrvs(\u001b[38;5;241m1\u001b[39m):\n",
      "\u001b[0;31mValueError\u001b[0m: operands could not be broadcast together with shapes (10000,) (2,) "
     ]
    }
   ],
   "source": [
    "## metropolis-hastings\n",
    "\n",
    "ll0 = np.log(sp.stats.norm(loc=theta[0,0], scale=theta[1,0]).pdf(x)).sum()\n",
    "for i in range(1, n_rep):\n",
    "    theta[i,:] = theta[i-1,:] + sp.stats.t(df=3).rvs(2)*.5\n",
    "    ll1 = np.log(sp.stats.norm(loc=theta[i,0], scale=theta[i,1]).pdf(x)).sum()\n",
    "\n",
    "    if np.exp(ll1 - ll0) > sp.stats.uniform().rvs(1):\n",
    "        ll0 = ll1\n",
    "        n_accept += 1\n",
    "    else: \n",
    "        theta[i,:] = theta[i-1,:] \n",
    "\n",
    "n_accept/n_rep"
   ]
  },
  {
   "cell_type": "code",
   "execution_count": null,
   "metadata": {},
   "outputs": [],
   "source": [
    "## μ\n",
    "plt.plot(np.arange(n_rep), theta[:,0], )\n"
   ]
  },
  {
   "cell_type": "code",
   "execution_count": null,
   "metadata": {},
   "outputs": [],
   "source": [
    "plt.hist(theta[:,1])"
   ]
  },
  {
   "cell_type": "code",
   "execution_count": null,
   "metadata": {},
   "outputs": [],
   "source": [
    "np.random.seed(1234)\n",
    "x = np.random.normal(size=20) * 2 + 1\n",
    "n_rep = 10000\n",
    "n_accept = 0\n",
    "theta = np.empty(shape=(2, n_rep))"
   ]
  },
  {
   "cell_type": "markdown",
   "metadata": {},
   "source": [
    "## Gibbs algo."
   ]
  },
  {
   "cell_type": "code",
   "execution_count": null,
   "metadata": {},
   "outputs": [],
   "source": [
    "## gibbs\n",
    "n = 20\n",
    "a = 1\n",
    "b = 0.1\n",
    "c = 0\n",
    "d = 100\n",
    "x_bar = x.mean()\n",
    "phi = 1\n",
    "mu = 0\n",
    "theta[:,0] = [mu,phi]\n",
    "for i in range(1, n_rep):\n",
    "    mu = sp.stats.norm(loc=(d*n*x_bar + phi*c) / (d*n + phi), scale = np.sqrt(phi*d / (d*n + phi))).rvs(1)\n",
    "    phi = 1/sp.stats.gamma(n/2+a-1, np.sum(((x-mu)**2)/2 + b)).rvs(1)\n",
    "    theta[:,i] = np.array([mu, phi]).flatten()\n",
    "\n",
    "n_accept/n_rep"
   ]
  },
  {
   "cell_type": "code",
   "execution_count": null,
   "metadata": {},
   "outputs": [],
   "source": [
    "plt.plot(theta[1, 1:])"
   ]
  },
  {
   "cell_type": "code",
   "execution_count": null,
   "metadata": {},
   "outputs": [],
   "source": [
    "## gibbs\n",
    "n = 20\n",
    "a = 1\n",
    "b = 0.1\n",
    "c = 0\n",
    "d = 100\n",
    "#x_bar = x.mean()\n",
    "n_accept = 0\n",
    "phi = 1\n",
    "mu = 0\n",
    "theta[:,0] = [mu,phi]\n",
    "for i in range(1, n_rep):\n",
    "    \n",
    "    phi = 1/sp.stats.gamma(n/2+a-1, np.sum(((x-mu)**2)/2 + b)).rvs(1)\n",
    "    theta[:,i] = np.array([mu, phi]).flatten()\n",
    "\n",
    "n_accept/n_rep"
   ]
  }
 ],
 "metadata": {
  "kernelspec": {
   "display_name": "Python 3 (ipykernel)",
   "language": "python",
   "name": "python3"
  },
  "language_info": {
   "codemirror_mode": {
    "name": "ipython",
    "version": 3
   },
   "file_extension": ".py",
   "mimetype": "text/x-python",
   "name": "python",
   "nbconvert_exporter": "python",
   "pygments_lexer": "ipython3",
   "version": "3.11.8"
  }
 },
 "nbformat": 4,
 "nbformat_minor": 4
}
