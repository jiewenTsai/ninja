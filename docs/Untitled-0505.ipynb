{
 "cells": [
  {
   "cell_type": "markdown",
   "metadata": {},
   "source": [
    "# Testing MCMC algo.\n",
    "\n",
    "- metropolis-hastings algo.\n",
    "- gibbs algo.\n"
   ]
  },
  {
   "cell_type": "code",
   "execution_count": 1,
   "metadata": {},
   "outputs": [],
   "source": [
    "import numpy as np\n",
    "import scipy as sp\n",
    "import matplotlib.pyplot as plt"
   ]
  },
  {
   "cell_type": "code",
   "execution_count": 2,
   "metadata": {},
   "outputs": [],
   "source": [
    "np.random.seed(1234)\n",
    "x = np.random.normal(size=20) * 2 + 1\n",
    "n_rep = 10000\n",
    "n_accept = 0\n",
    "theta = np.empty(shape=(2, n_rep))"
   ]
  },
  {
   "cell_type": "code",
   "execution_count": 3,
   "metadata": {},
   "outputs": [
    {
     "name": "stderr",
     "output_type": "stream",
     "text": [
      "/var/folders/1f/8r50hwmn6m5dwrngfgysq4p40000gn/T/ipykernel_55565/4291300663.py:1: RuntimeWarning: overflow encountered in exp\n",
      "  sp.stats.norm(loc=theta[0, 0], scale = np.exp(theta[1, 0])).pdf(x=1000)\n"
     ]
    },
    {
     "data": {
      "text/plain": [
       "0.0"
      ]
     },
     "execution_count": 3,
     "metadata": {},
     "output_type": "execute_result"
    }
   ],
   "source": [
    "sp.stats.norm(loc=theta[0, 0], scale = np.exp(theta[1, 0])).pdf(x=1000)"
   ]
  },
  {
   "cell_type": "code",
   "execution_count": 4,
   "metadata": {},
   "outputs": [
    {
     "data": {
      "text/plain": [
       "(2, 10000)"
      ]
     },
     "execution_count": 4,
     "metadata": {},
     "output_type": "execute_result"
    }
   ],
   "source": [
    "theta.shape"
   ]
  },
  {
   "cell_type": "markdown",
   "metadata": {},
   "source": [
    "## MH algo."
   ]
  },
  {
   "cell_type": "code",
   "execution_count": 5,
   "metadata": {},
   "outputs": [
    {
     "ename": "ValueError",
     "evalue": "operands could not be broadcast together with shapes (10000,) (2,) ",
     "output_type": "error",
     "traceback": [
      "\u001b[0;31m---------------------------------------------------------------------------\u001b[0m",
      "\u001b[0;31mValueError\u001b[0m                                Traceback (most recent call last)",
      "Cell \u001b[0;32mIn[5], line 5\u001b[0m\n\u001b[1;32m      3\u001b[0m ll0 \u001b[38;5;241m=\u001b[39m np\u001b[38;5;241m.\u001b[39mlog(sp\u001b[38;5;241m.\u001b[39mstats\u001b[38;5;241m.\u001b[39mnorm(loc\u001b[38;5;241m=\u001b[39mtheta[\u001b[38;5;241m0\u001b[39m,\u001b[38;5;241m0\u001b[39m], scale\u001b[38;5;241m=\u001b[39mtheta[\u001b[38;5;241m1\u001b[39m,\u001b[38;5;241m0\u001b[39m])\u001b[38;5;241m.\u001b[39mpdf(x))\u001b[38;5;241m.\u001b[39msum()\n\u001b[1;32m      4\u001b[0m \u001b[38;5;28;01mfor\u001b[39;00m i \u001b[38;5;129;01min\u001b[39;00m \u001b[38;5;28mrange\u001b[39m(\u001b[38;5;241m1\u001b[39m, n_rep):\n\u001b[0;32m----> 5\u001b[0m     theta[i,:] \u001b[38;5;241m=\u001b[39m \u001b[43mtheta\u001b[49m\u001b[43m[\u001b[49m\u001b[43mi\u001b[49m\u001b[38;5;241;43m-\u001b[39;49m\u001b[38;5;241;43m1\u001b[39;49m\u001b[43m,\u001b[49m\u001b[43m:\u001b[49m\u001b[43m]\u001b[49m\u001b[43m \u001b[49m\u001b[38;5;241;43m+\u001b[39;49m\u001b[43m \u001b[49m\u001b[43msp\u001b[49m\u001b[38;5;241;43m.\u001b[39;49m\u001b[43mstats\u001b[49m\u001b[38;5;241;43m.\u001b[39;49m\u001b[43mt\u001b[49m\u001b[43m(\u001b[49m\u001b[43mdf\u001b[49m\u001b[38;5;241;43m=\u001b[39;49m\u001b[38;5;241;43m3\u001b[39;49m\u001b[43m)\u001b[49m\u001b[38;5;241;43m.\u001b[39;49m\u001b[43mrvs\u001b[49m\u001b[43m(\u001b[49m\u001b[38;5;241;43m2\u001b[39;49m\u001b[43m)\u001b[49m\u001b[38;5;241;43m*\u001b[39;49m\u001b[38;5;241;43m.5\u001b[39;49m\n\u001b[1;32m      6\u001b[0m     ll1 \u001b[38;5;241m=\u001b[39m np\u001b[38;5;241m.\u001b[39mlog(sp\u001b[38;5;241m.\u001b[39mstats\u001b[38;5;241m.\u001b[39mnorm(loc\u001b[38;5;241m=\u001b[39mtheta[i,\u001b[38;5;241m0\u001b[39m], scale\u001b[38;5;241m=\u001b[39mtheta[i,\u001b[38;5;241m1\u001b[39m])\u001b[38;5;241m.\u001b[39mpdf(x))\u001b[38;5;241m.\u001b[39msum()\n\u001b[1;32m      8\u001b[0m     \u001b[38;5;28;01mif\u001b[39;00m np\u001b[38;5;241m.\u001b[39mexp(ll1 \u001b[38;5;241m-\u001b[39m ll0) \u001b[38;5;241m>\u001b[39m sp\u001b[38;5;241m.\u001b[39mstats\u001b[38;5;241m.\u001b[39muniform()\u001b[38;5;241m.\u001b[39mrvs(\u001b[38;5;241m1\u001b[39m):\n",
      "\u001b[0;31mValueError\u001b[0m: operands could not be broadcast together with shapes (10000,) (2,) "
     ]
    }
   ],
   "source": [
    "## metropolis-hastings\n",
    "\n",
    "ll0 = np.log(sp.stats.norm(loc=theta[0,0], scale=theta[1,0]).pdf(x)).sum()\n",
    "for i in range(1, n_rep):\n",
    "    theta[i,:] = theta[i-1,:] + sp.stats.t(df=3).rvs(2)*.5\n",
    "    ll1 = np.log(sp.stats.norm(loc=theta[i,0], scale=theta[i,1]).pdf(x)).sum()\n",
    "\n",
    "    if np.exp(ll1 - ll0) > sp.stats.uniform().rvs(1):\n",
    "        ll0 = ll1\n",
    "        n_accept += 1\n",
    "    else: \n",
    "        theta[i,:] = theta[i-1,:] \n",
    "\n",
    "n_accept/n_rep"
   ]
  },
  {
   "cell_type": "code",
   "execution_count": null,
   "metadata": {},
   "outputs": [],
   "source": [
    "## μ\n",
    "plt.plot(np.arange(n_rep), theta[:,0], )\n"
   ]
  },
  {
   "cell_type": "code",
   "execution_count": null,
   "metadata": {},
   "outputs": [],
   "source": [
    "plt.hist(theta[:,1])"
   ]
  },
  {
   "cell_type": "code",
   "execution_count": null,
   "metadata": {},
   "outputs": [],
   "source": [
    "np.random.seed(1234)\n",
    "x = np.random.normal(size=20) * 2 + 1\n",
    "n_rep = 10000\n",
    "n_accept = 0\n",
    "theta = np.empty(shape=(2, n_rep))"
   ]
  },
  {
   "cell_type": "markdown",
   "metadata": {},
   "source": [
    "## Gibbs algo."
   ]
  },
  {
   "cell_type": "code",
   "execution_count": null,
   "metadata": {},
   "outputs": [],
   "source": [
    "## gibbs\n",
    "n = 20\n",
    "a = 1\n",
    "b = 0.1\n",
    "c = 0\n",
    "d = 100\n",
    "x_bar = x.mean()\n",
    "phi = 1\n",
    "mu = 0\n",
    "theta[:,0] = [mu,phi]\n",
    "for i in range(1, n_rep):\n",
    "    mu = sp.stats.norm(loc=(d*n*x_bar + phi*c) / (d*n + phi), scale = np.sqrt(phi*d / (d*n + phi))).rvs(1)\n",
    "    phi = 1/sp.stats.gamma(n/2+a-1, np.sum(((x-mu)**2)/2 + b)).rvs(1)\n",
    "    theta[:,i] = np.array([mu, phi]).flatten()\n",
    "\n",
    "n_accept/n_rep"
   ]
  },
  {
   "cell_type": "code",
   "execution_count": null,
   "metadata": {},
   "outputs": [],
   "source": [
    "plt.plot(theta[1, 1:])"
   ]
  },
  {
   "cell_type": "code",
   "execution_count": null,
   "metadata": {},
   "outputs": [],
   "source": [
    "## gibbs\n",
    "n = 20\n",
    "a = 1\n",
    "b = 0.1\n",
    "c = 0\n",
    "d = 100\n",
    "#x_bar = x.mean()\n",
    "n_accept = 0\n",
    "phi = 1\n",
    "mu = 0\n",
    "theta[:,0] = [mu,phi]\n",
    "for i in range(1, n_rep):\n",
    "    \n",
    "    phi = 1/sp.stats.gamma(n/2+a-1, np.sum(((x-mu)**2)/2 + b)).rvs(1)\n",
    "    theta[:,i] = np.array([mu, phi]).flatten()\n",
    "\n",
    "n_accept/n_rep"
   ]
  }
 ],
 "metadata": {
  "kernelspec": {
   "display_name": "Python 3 (ipykernel)",
   "language": "python",
   "name": "python3"
  },
  "language_info": {
   "codemirror_mode": {
    "name": "ipython",
    "version": 3
   },
   "file_extension": ".py",
   "mimetype": "text/x-python",
   "name": "python",
   "nbconvert_exporter": "python",
   "pygments_lexer": "ipython3",
   "version": "3.12.2"
  }
 },
 "nbformat": 4,
 "nbformat_minor": 4
}
